{
 "cells": [
  {
   "cell_type": "code",
   "execution_count": 1,
   "metadata": {},
   "outputs": [],
   "source": [
    "# from swaptest import cswaptest\n",
    "import numpy as np\n",
    "import random as rd\n",
    "import sys\n",
    "sys.path.insert(1, '../')\n",
    "import base.knn\n",
    "import itertools \n",
    "import sklearn"
   ]
  },
  {
   "cell_type": "code",
   "execution_count": 3,
   "metadata": {},
   "outputs": [
    {
     "name": "stdout",
     "output_type": "stream",
     "text": [
      "--- 0.013982534408569336 seconds ---\n",
      "accuracy:  0.9642857142857143\n",
      "precision:  0.9675324675324675\n",
      "recall:  0.9642857142857143\n",
      "matrix:  [[ 6  0  0]\n",
      " [ 0 11  1]\n",
      " [ 0  0 10]]\n"
     ]
    }
   ],
   "source": [
    "# hyperparameter\n",
    "import time\n",
    "start_time = time.time()\n",
    "n_variables = 4 \n",
    "n_train_points = 96\n",
    "n_test_points = int(n_train_points*0.3)\n",
    "k = 3\n",
    "# use iris dataset\n",
    "iris = sklearn.datasets.load_iris()\n",
    "labels = iris.target\n",
    "data_raw = iris.data\n",
    "\n",
    "# get training indices\n",
    "randomIndices0 = rd.sample(range(0, 50), int(n_train_points/3))\n",
    "randomIndices1 = rd.sample(range(55, 100), int(n_train_points/3))\n",
    "randomIndices2 = rd.sample(range(105, 150), n_train_points-int(n_train_points/3)*2)\n",
    "indicsTrain = list(itertools.chain(randomIndices0, randomIndices1, randomIndices2))\n",
    "\n",
    "# get test indices\n",
    "n_test = n_test_points\n",
    "indicsTest = []\n",
    "while n_test != 0:\n",
    "    random = (rd.sample(range(0, 150), 1))[0]\n",
    "    if random not in indicsTest and random not in indicsTrain:\n",
    "        indicsTest.append(random)\n",
    "        n_test = n_test - 1\n",
    "\n",
    "# now pick these data with given indices\n",
    "train_datas = np.asarray([data_raw[i] for i in indicsTrain])\n",
    "train_labels =  np.asarray([labels[i] for i in indicsTrain])\n",
    "test_datas = np.asarray([data_raw[i] for i in indicsTest])\n",
    "test_labels =  np.asarray([labels[i] for i in indicsTest])\n",
    "# predict\n",
    "clf = sklearn.neighbors.KNeighborsClassifier(n_neighbors = k)\n",
    "clf.fit(train_datas, train_labels)\n",
    "y_pred = clf.predict(test_datas)\n",
    "print(\"--- %s seconds ---\" % (time.time() - start_time))\n",
    "accuracy, precision, recall, matrix = base.knn.bench_mark(test_labels, y_pred)\n",
    "print('accuracy: ', accuracy)\n",
    "print('precision: ', precision)\n",
    "print('recall: ', recall)\n",
    "print('matrix: ', matrix)\n"
   ]
  }
 ],
 "metadata": {
  "interpreter": {
   "hash": "b0bb45761e06d42ef60a7e329026c016a53b18e4ad51e16529481946724f1b50"
  },
  "kernelspec": {
   "display_name": "Python 3.7.6 64-bit",
   "name": "python3"
  },
  "language_info": {
   "codemirror_mode": {
    "name": "ipython",
    "version": 3
   },
   "file_extension": ".py",
   "mimetype": "text/x-python",
   "name": "python",
   "nbconvert_exporter": "python",
   "pygments_lexer": "ipython3",
   "version": "3.10.9"
  },
  "orig_nbformat": 4
 },
 "nbformat": 4,
 "nbformat_minor": 2
}
