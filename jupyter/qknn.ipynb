{
 "cells": [
  {
   "cell_type": "code",
   "execution_count": 1,
   "metadata": {},
   "outputs": [],
   "source": [
    "# from swaptest import cswaptest\n",
    "import numpy as np\n",
    "import random as rd\n",
    "import base.knn, itertools \n",
    "from sklearn import datasets\n",
    "from matplotlib.lines import Line2D\n",
    "import matplotlib.pyplot as plt"
   ]
  },
  {
   "cell_type": "code",
   "execution_count": 2,
   "metadata": {},
   "outputs": [],
   "source": [
    "# hyperparameter\n",
    "n_variables = 4 \n",
    "n_train_points = 8\n",
    "n_test_points = int(n_train_points*0.3)\n",
    "k = 3\n",
    "iteration = 2"
   ]
  },
  {
   "cell_type": "code",
   "execution_count": 3,
   "metadata": {},
   "outputs": [],
   "source": [
    "# use iris dataset\n",
    "iris = datasets.load_iris()\n",
    "labels = iris.target\n",
    "data_raw = iris.data\n",
    "\n",
    "# encode data\n",
    "data_raw = base.knn.encode(data_raw[:, :n_variables])\n",
    "\n",
    "# get training indices\n",
    "randomIndices0 = rd.sample(range(0, 50), int(n_train_points/3))\n",
    "randomIndices1 = rd.sample(range(55, 100), int(n_train_points/3))\n",
    "randomIndices2 = rd.sample(range(105, 150), n_train_points-int(n_train_points/3)*2)\n",
    "indicsTrain = list(itertools.chain(randomIndices0, randomIndices1, randomIndices2))\n",
    "\n",
    "# get test indices\n",
    "n_test = n_test_points\n",
    "indicsTest = []\n",
    "while n_test != 0:\n",
    "    random = (rd.sample(range(0, 150), 1))[0]\n",
    "    if random not in indicsTest:\n",
    "        indicsTest.append(random)\n",
    "        n_test = n_test - 1\n",
    "\n",
    "# pick these state and its labels with given indices\n",
    "train_datas = np.asarray([data_raw[i] for i in indicsTrain])\n",
    "train_labels =  np.asarray([labels[i] for i in indicsTrain])\n",
    "test_datas = np.asarray([data_raw[i] for i in indicsTest])\n",
    "test_labels =  np.asarray([labels[i] for i in indicsTest])"
   ]
  },
  {
   "cell_type": "code",
   "execution_count": 4,
   "metadata": {},
   "outputs": [
    {
     "data": {
      "image/png": "[encoded data removed]",
      "text/plain": [
       "<Figure size 432x288 with 1 Axes>"
      ]
     },
     "metadata": {
      "needs_background": "light"
     },
     "output_type": "display_data"
    }
   ],
   "source": [
    "# plot data\n",
    "train_colors = {0:'red', 1:'yellow', 2:'violet'}\n",
    "test_colors = {0:'pink', 1:'orange', 2:'blue'}\n",
    "fig, ax = plt.subplots()\n",
    "for i in range(len(train_datas)):\n",
    "    ax.scatter(train_datas[i][0], train_datas[i][1], color = train_colors[train_labels[i]])\n",
    "for i in range(len(test_datas)):\n",
    "    ax.scatter(test_datas[i][0], test_datas[i][1], color = test_colors[test_labels[i]])\n",
    "legend_elements = [\n",
    "    Line2D([0], [0], marker='o', color='w', label='Setosa (train)',  markerfacecolor='red', markersize=10),\n",
    "    Line2D([0], [0], marker='o', color='w', label='Setosa (test)',  markerfacecolor='pink', markersize=10),\n",
    "    Line2D([0], [0], marker='o', color='w', label='Versicolor (train)',  markerfacecolor='yellow', markersize=10),\n",
    "    Line2D([0], [0], marker='o', color='w', label='Versicolor (test)',  markerfacecolor='orange', markersize=10),\n",
    "    Line2D([0], [0], marker='o', color='w', label='Virginica (train)',  markerfacecolor='violet', markersize=10),\n",
    "    Line2D([0], [0], marker='o', color='w', label='Virginica (test)',  markerfacecolor='blue', markersize=10),\n",
    "]\n",
    "ax.legend(handles=legend_elements)\n",
    "plt.title('Iris')\n",
    "plt.xlabel('Petal length')\n",
    "plt.ylabel('Petal width')\n",
    "plt.grid(True)\n",
    "plt.show()"
   ]
  },
  {
   "cell_type": "code",
   "execution_count": 5,
   "metadata": {},
   "outputs": [
    {
     "name": "stdout",
     "output_type": "stream",
     "text": [
      "[2, 3, 5, 6, 4, 7, 1, 0]\n",
      "Progress 0%\n",
      "[0, 1, 2, 3, 5, 4, 6, 7]\n",
      "Predict labels:  [1 0]\n",
      "Test labels:  [1 0]\n",
      "accuracy:  1.0\n",
      "precision:  1.0\n",
      "recall:  1.0\n",
      "matrix:  [[1 0]\n",
      " [0 1]]\n"
     ]
    }
   ],
   "source": [
    "# run QkNN\n",
    "predict_labels = np.asarray(base.knn.predict(train_datas, train_labels, test_datas, k, iteration))\n",
    "accuracy, precision, recall, matrix = base.knn.bench_mark(test_labels, predict_labels)\n",
    "print('Predict labels: ', predict_labels)\n",
    "print('Test labels: ', test_labels)\n",
    "print('accuracy: ', accuracy)\n",
    "print('precision: ', precision)\n",
    "print('recall: ', recall)\n",
    "print('matrix: ', matrix)"
   ]
  }
 ],
 "metadata": {
  "interpreter": {
   "hash": "b0bb45761e06d42ef60a7e329026c016a53b18e4ad51e16529481946724f1b50"
  },
  "kernelspec": {
   "display_name": "Python 3.7.6 64-bit",
   "name": "python3"
  },
  "language_info": {
   "codemirror_mode": {
    "name": "ipython",
    "version": 3
   },
   "file_extension": ".py",
   "mimetype": "text/x-python",
   "name": "python",
   "nbconvert_exporter": "python",
   "pygments_lexer": "ipython3",
   "version": "3.7.6"
  },
  "orig_nbformat": 4
 },
 "nbformat": 4,
 "nbformat_minor": 2
}
