{
 "cells": [
  {
   "cell_type": "code",
   "execution_count": null,
   "metadata": {},
   "outputs": [],
   "source": []
  },
  {
   "cell_type": "code",
   "execution_count": 1,
   "metadata": {},
   "outputs": [
    {
     "name": "stderr",
     "output_type": "stream",
     "text": [
      "C:\\Users\\haime\\AppData\\Local\\Programs\\Python\\Python37\\lib\\site-packages\\qiskit\\aqua\\operators\\operator_globals.py:48: DeprecationWarning: `from_label` is deprecated and will be removed no earlier than 3 months after the release date. Use Pauli(label) instead.\n",
      "  X = make_immutable(PrimitiveOp(Pauli.from_label('X')))\n"
     ]
    },
    {
     "name": "stdout",
     "output_type": "stream",
     "text": [
      "[6, 34, 24, 10, 46, 23, 76, 89, 70, 56, 62, 127, 117, 130, 123, 138]\n",
      "[138, 130]\n",
      "[[0.80417614 0.59439106]\n",
      " [0.84507884 0.53464171]\n",
      " [0.81602448 0.57801734]\n",
      " [0.82493237 0.56523144]\n",
      " [0.80188283 0.59748132]\n",
      " [0.83957016 0.54325128]\n",
      " [0.9246781  0.38074981]\n",
      " [0.91036648 0.41380294]\n",
      " [0.87903186 0.47676304]\n",
      " [0.88583154 0.46400699]\n",
      " [0.93887632 0.34425465]\n",
      " [0.89734997 0.44131966]\n",
      " [0.89674427 0.44254912]\n",
      " [0.93528626 0.3538921 ]\n",
      " [0.91914503 0.3939193 ]\n",
      " [0.89442719 0.4472136 ]]\n",
      "[0 0 0 0 0 0 1 1 1 1 1 2 2 2 2 2]\n",
      "[[0.89442719 0.4472136 ]\n",
      " [0.93528626 0.3538921 ]]\n",
      "Test labels:  [2 2]\n",
      "---\n"
     ]
    }
   ],
   "source": [
    "# from swaptest import cswaptest\r\n",
    "import numpy as np\r\n",
    "from qiskit import aqua\r\n",
    "from sklearn import datasets\r\n",
    "import qiskit as qk\r\n",
    "import random as rd\r\n",
    "from matplotlib import pyplot as plt\r\n",
    "from sklearn.metrics import accuracy_score, precision_score, recall_score, f1_score, confusion_matrix\r\n",
    "\r\n",
    "from knn import encode, predict\r\n",
    "import itertools \r\n",
    "\r\n",
    "n_variables = 2 \r\n",
    "n_train_points = 16 \r\n",
    "n_test_points = 2  \r\n",
    "k = 3\r\n",
    "# use iris dataset\r\n",
    "iris = datasets.load_iris()\r\n",
    "labels = iris.target\r\n",
    "data_raw = iris.data\r\n",
    "# encode data\r\n",
    "data_raw = encode(data_raw[:, :n_variables])\r\n",
    "\r\n",
    "randomIndices0 = rd.sample(range(0, 50), 6)\r\n",
    "randomIndices1 = rd.sample(range(55, 100), 5)\r\n",
    "randomIndices2 = rd.sample(range(105, 150), 5)\r\n",
    "\r\n",
    "indicsTrain = list(itertools.chain(randomIndices0, randomIndices1, randomIndices2))\r\n",
    "\r\n",
    "print(indicsTrain)\r\n",
    "n_test = n_test_points\r\n",
    "indicsTest = []\r\n",
    "while n_test != 0:\r\n",
    "    random = (rd.sample(range(0, 150), 1))[0]\r\n",
    "    if random in indicsTrain:\r\n",
    "        indicsTest.append(random)\r\n",
    "        n_test = n_test - 1\r\n",
    "print(indicsTest)\r\n",
    "# now pick these indices from the data\r\n",
    "train_datas = np.asarray([data_raw[i] for i in indicsTrain])\r\n",
    "train_labels =  np.asarray([labels[i] for i in indicsTrain])\r\n",
    "\r\n",
    "test_datas = np.asarray([data_raw[i] for i in indicsTest])\r\n",
    "test_labels =  np.asarray([labels[i] for i in indicsTest])\r\n",
    "\r\n",
    "print(train_datas)\r\n",
    "print(train_labels)\r\n",
    "print(test_datas)\r\n",
    "print('Test labels: ', test_labels)\r\n",
    "print('Predict labels: ', predict(train_datas, train_labels, test_datas, k))\r\n"
   ]
  },
  {
   "cell_type": "code",
   "execution_count": null,
   "metadata": {},
   "outputs": [
    {
     "data": {
      "image/png": "[encoded data removed]",
      "text/plain": "<Figure size 432x288 with 1 Axes>"
     },
     "metadata": {
      "needs_background": "light"
     },
     "output_type": "display_data"
    }
   ],
   "source": [
    "import matplotlib.pyplot as plt\r\n",
    "\r\n",
    "colours = {0:'orange', 1:'yellow', 2:'violet'}\r\n",
    "\r\n",
    "colours2 = {0:'red', 1:'green', 2:'blue'}\r\n",
    "\r\n",
    "\r\n",
    "for i in range(len(train_datas)):\r\n",
    "    plt.scatter(train_datas[i][0], train_datas[i][1], color = colours[train_labels[i]])\r\n",
    "for i in range(len(test_datas)):\r\n",
    "    plt.scatter(test_datas[i][0], test_datas[i][1], color = colours2[test_labels[i]])\r\n",
    "plt.title('Iris')\r\n",
    "plt.xlabel('petal length')\r\n",
    "plt.ylabel('petal width')\r\n",
    "plt.grid(True)\r\n",
    "plt.show()\r\n"
   ]
  }
 ],
 "metadata": {
  "kernelspec": {
   "display_name": "Python 3.7.6 64-bit",
   "name": "python376jvsc74a57bd0b0bb45761e06d42ef60a7e329026c016a53b18e4ad51e16529481946724f1b50"
  },
  "language_info": {
   "codemirror_mode": {
    "name": "ipython",
    "version": 3
   },
   "file_extension": ".py",
   "mimetype": "text/x-python",
   "name": "python",
   "nbconvert_exporter": "python",
   "pygments_lexer": "ipython3",
   "version": "3.7.6"
  }
 },
 "nbformat": 4,
 "nbformat_minor": 4
}