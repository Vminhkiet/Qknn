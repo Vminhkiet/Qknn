{
 "cells": [
  {
   "cell_type": "code",
   "execution_count": 2,
   "metadata": {},
   "outputs": [],
   "source": [
    "import numpy as np\n",
    "import base.swaptest"
   ]
  },
  {
   "cell_type": "code",
   "execution_count": 3,
   "metadata": {},
   "outputs": [],
   "source": [
    "fidelities = np.array([])\n",
    "expected_results = np.array([])\n",
    "deltas = np.array([])\n",
    "\n",
    "vector1 = np.asarray([0,1,0,1,0,1,0,1])\n",
    "vector2 = np.asarray([1,1,1,1,1,0,1,0])\n",
    "vector1 = vector1 / np.linalg.norm(vector1)\n",
    "vector2 = vector2 / np.linalg.norm(vector2)\n",
    "\n",
    "iteration = 2"
   ]
  },
  {
   "cell_type": "code",
   "execution_count": 4,
   "metadata": {},
   "outputs": [
    {
     "name": "stdout",
     "output_type": "stream",
     "text": [
      "Expected:  0.4082482904638631\n",
      "Result:  0.40171678582418124\n",
      "Delta:  0.006531504639681857\n",
      "Percent: 1.6258978639096473%\n"
     ]
    }
   ],
   "source": [
    "for i in range(0, iteration):\n",
    "    \n",
    "    fidelity = base.swaptest.integrated_swap_test_circuit(vector1, vector2)\n",
    "    expected_result = np.dot(vector1, vector2)\n",
    "    fidelities = np.append(fidelities, fidelity)\n",
    "    expected_results = np.append(expected_results, expected_result)\n",
    "    deltas = np.append(deltas, np.abs(fidelity - expected_result))\n",
    "\n",
    "average = np.average(fidelities)\n",
    "average_delta = np.average(deltas)\n",
    "print(\"Expected: \", expected_results[0])\n",
    "print(\"Result: \", average)\n",
    "print(\"Delta: \",average_delta)\n",
    "print(\"Percent: \" + str(average_delta/average*100) + \"%\" )"
   ]
  }
 ],
 "metadata": {
  "interpreter": {
   "hash": "b0bb45761e06d42ef60a7e329026c016a53b18e4ad51e16529481946724f1b50"
  },
  "kernelspec": {
   "display_name": "Python 3.7.6 64-bit",
   "name": "python3"
  },
  "language_info": {
   "codemirror_mode": {
    "name": "ipython",
    "version": 3
   },
   "file_extension": ".py",
   "mimetype": "text/x-python",
   "name": "python",
   "nbconvert_exporter": "python",
   "pygments_lexer": "ipython3",
   "version": "3.10.9"
  },
  "orig_nbformat": 2
 },
 "nbformat": 4,
 "nbformat_minor": 2
}
