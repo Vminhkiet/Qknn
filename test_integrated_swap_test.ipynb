{
 "cells": [
  {
   "cell_type": "code",
   "execution_count": null,
   "metadata": {},
   "outputs": [],
   "source": [
    "import numpy as np\r\n",
    "from swaptest import *\r\n",
    "\r\n",
    "fidelities = np.array([])\r\n",
    "expected_results = np.array([])\r\n",
    "deltas = np.array([])\r\n",
    "\r\n",
    "vector1 = np.asarray([1,2,3,4,5,6,7,8,1,2,3,4,5,6,7,8])\r\n",
    "vector2 = np.asarray([3,2,1,3,4,2,4,2,3,2,1,3,4,2,4,2])\r\n",
    "vector1 = vector1 / np.linalg.norm(vector1)\r\n",
    "vector2 = vector2 / np.linalg.norm(vector2)\r\n",
    "\r\n",
    "iteration = 10\r\n",
    "for i in range(0, iteration):\r\n",
    "\r\n",
    "    fidelity = integrated_swap_test_circuit(vector1, vector2)\r\n",
    "    expected_result = np.dot(vector1, vector2)\r\n",
    "    fidelities = np.append(fidelities, fidelity)\r\n",
    "    expected_results = np.append(expected_results, expected_result)\r\n",
    "    deltas = np.append(deltas, np.abs(fidelity - expected_result))\r\n",
    "\r\n",
    "average = np.average(fidelities)\r\n",
    "average_delta = np.average(deltas)\r\n",
    "print(\"Expected: \", expected_results[0])\r\n",
    "print(\"Result: \", average)\r\n",
    "print(\"Delta: \",average_delta)\r\n",
    "print(\"Percent: \" + str(average_delta/average*100) + \"%\" )"
   ]
  }
 ],
 "metadata": {
  "kernelspec": {
   "display_name": "Python 3.7.6 64-bit",
   "name": "python376jvsc74a57bd0b0bb45761e06d42ef60a7e329026c016a53b18e4ad51e16529481946724f1b50"
  },
  "language_info": {
   "name": "python",
   "version": ""
  },
  "orig_nbformat": 2
 },
 "nbformat": 4,
 "nbformat_minor": 2
}